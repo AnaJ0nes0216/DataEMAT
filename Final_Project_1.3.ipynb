{
 "cells": [
  {
   "cell_type": "markdown",
   "id": "f0c38224",
   "metadata": {},
   "source": [
    "**Proposal: What time periods are more likely for an instagram user to view and interact with ads, recommended users, and posts in general. Will there be a connection between these data sets when the timestamps are put into consideration? I want to put these all into graphs and make a comparison.**"
   ]
  },
  {
   "cell_type": "code",
   "execution_count": 2,
   "id": "77127698",
   "metadata": {},
   "outputs": [],
   "source": [
    "import pandas as pd\n",
    "import json\n",
    "from scipy import stats\n",
    "from matplotlib import pyplot as plt\n",
    "from datetime import datetime as dt"
   ]
  },
  {
   "cell_type": "markdown",
   "id": "53fc86fb",
   "metadata": {},
   "source": [
    "**I chose to use these data sets because they allow me to see when Instagram ads, posts, suggested accounts and videos were viewed. From those dates and times I can then determine what times of the year I was more actively viewing Instagram content. Opening the Instagram data I downloaded from my computer and turning into json files. Then turn them into DataFrames so that I can see the timestamps for each set.**"
   ]
  },
  {
   "cell_type": "code",
   "execution_count": 3,
   "id": "283bb880",
   "metadata": {},
   "outputs": [],
   "source": [
    "with open(r\"C:\\Users\\Anamarie Jones\\Downloads\\ana_jones0216_20210907\\ads_and_content\\ads_viewed.json\") as ad:\n",
    "    ads = json.load(ad)\n",
    "with open(r\"C:\\Users\\Anamarie Jones\\Downloads\\ana_jones0216_20210907\\ads_and_content\\posts_viewed.json\") as p:\n",
    "    posts = json.load(p)\n",
    "with open(r\"C:\\Users\\Anamarie Jones\\Downloads\\ana_jones0216_20210907\\ads_and_content\\suggested_accounts_viewed.json\") as s:\n",
    "    accounts = json.load(s)\n",
    "with open(r\"C:\\Users\\Anamarie Jones\\Downloads\\ana_jones0216_20210907\\ads_and_content\\videos_watched.json\") as v:\n",
    "    videos = json.load(v)"
   ]
  },
  {
   "cell_type": "code",
   "execution_count": 4,
   "id": "eb1f67c1",
   "metadata": {},
   "outputs": [],
   "source": [
    "time = [x['string_map_data']['Time'] for x in ads['impressions_history_ads_seen']]"
   ]
  },
  {
   "cell_type": "code",
   "execution_count": 5,
   "id": "50703a1a",
   "metadata": {},
   "outputs": [],
   "source": [
    "ads_viewed_time = pd.DataFrame(time)"
   ]
  },
  {
   "cell_type": "code",
   "execution_count": 6,
   "id": "e081ddeb",
   "metadata": {},
   "outputs": [
    {
     "data": {
      "text/html": [
       "<div>\n",
       "<style scoped>\n",
       "    .dataframe tbody tr th:only-of-type {\n",
       "        vertical-align: middle;\n",
       "    }\n",
       "\n",
       "    .dataframe tbody tr th {\n",
       "        vertical-align: top;\n",
       "    }\n",
       "\n",
       "    .dataframe thead th {\n",
       "        text-align: right;\n",
       "    }\n",
       "</style>\n",
       "<table border=\"1\" class=\"dataframe\">\n",
       "  <thead>\n",
       "    <tr style=\"text-align: right;\">\n",
       "      <th></th>\n",
       "      <th>href</th>\n",
       "      <th>value</th>\n",
       "      <th>timestamp</th>\n",
       "    </tr>\n",
       "  </thead>\n",
       "  <tbody>\n",
       "    <tr>\n",
       "      <th>0</th>\n",
       "      <td></td>\n",
       "      <td></td>\n",
       "      <td>1630453959</td>\n",
       "    </tr>\n",
       "    <tr>\n",
       "      <th>1</th>\n",
       "      <td></td>\n",
       "      <td></td>\n",
       "      <td>1630454332</td>\n",
       "    </tr>\n",
       "    <tr>\n",
       "      <th>2</th>\n",
       "      <td></td>\n",
       "      <td></td>\n",
       "      <td>1630453922</td>\n",
       "    </tr>\n",
       "    <tr>\n",
       "      <th>3</th>\n",
       "      <td></td>\n",
       "      <td></td>\n",
       "      <td>1630453922</td>\n",
       "    </tr>\n",
       "    <tr>\n",
       "      <th>4</th>\n",
       "      <td></td>\n",
       "      <td></td>\n",
       "      <td>1630453922</td>\n",
       "    </tr>\n",
       "  </tbody>\n",
       "</table>\n",
       "</div>"
      ],
      "text/plain": [
       "  href value   timestamp\n",
       "0             1630453959\n",
       "1             1630454332\n",
       "2             1630453922\n",
       "3             1630453922\n",
       "4             1630453922"
      ]
     },
     "execution_count": 6,
     "metadata": {},
     "output_type": "execute_result"
    }
   ],
   "source": [
    "ads_viewed_time.head()"
   ]
  },
  {
   "cell_type": "code",
   "execution_count": 7,
   "id": "737af59b",
   "metadata": {},
   "outputs": [],
   "source": [
    "time2 = [x['string_map_data']['Time'] for x in posts['impressions_history_posts_seen']]"
   ]
  },
  {
   "cell_type": "code",
   "execution_count": 8,
   "id": "d5ebbe42",
   "metadata": {},
   "outputs": [],
   "source": [
    "posts_viewed = pd.DataFrame(time2)"
   ]
  },
  {
   "cell_type": "code",
   "execution_count": 9,
   "id": "c7dd1a62",
   "metadata": {},
   "outputs": [
    {
     "data": {
      "text/html": [
       "<div>\n",
       "<style scoped>\n",
       "    .dataframe tbody tr th:only-of-type {\n",
       "        vertical-align: middle;\n",
       "    }\n",
       "\n",
       "    .dataframe tbody tr th {\n",
       "        vertical-align: top;\n",
       "    }\n",
       "\n",
       "    .dataframe thead th {\n",
       "        text-align: right;\n",
       "    }\n",
       "</style>\n",
       "<table border=\"1\" class=\"dataframe\">\n",
       "  <thead>\n",
       "    <tr style=\"text-align: right;\">\n",
       "      <th></th>\n",
       "      <th>href</th>\n",
       "      <th>value</th>\n",
       "      <th>timestamp</th>\n",
       "    </tr>\n",
       "  </thead>\n",
       "  <tbody>\n",
       "    <tr>\n",
       "      <th>0</th>\n",
       "      <td></td>\n",
       "      <td></td>\n",
       "      <td>1630453927</td>\n",
       "    </tr>\n",
       "    <tr>\n",
       "      <th>1</th>\n",
       "      <td></td>\n",
       "      <td></td>\n",
       "      <td>1630453933</td>\n",
       "    </tr>\n",
       "    <tr>\n",
       "      <th>2</th>\n",
       "      <td></td>\n",
       "      <td></td>\n",
       "      <td>1630453958</td>\n",
       "    </tr>\n",
       "    <tr>\n",
       "      <th>3</th>\n",
       "      <td></td>\n",
       "      <td></td>\n",
       "      <td>1630454320</td>\n",
       "    </tr>\n",
       "    <tr>\n",
       "      <th>4</th>\n",
       "      <td></td>\n",
       "      <td></td>\n",
       "      <td>1630454320</td>\n",
       "    </tr>\n",
       "  </tbody>\n",
       "</table>\n",
       "</div>"
      ],
      "text/plain": [
       "  href value   timestamp\n",
       "0             1630453927\n",
       "1             1630453933\n",
       "2             1630453958\n",
       "3             1630454320\n",
       "4             1630454320"
      ]
     },
     "execution_count": 9,
     "metadata": {},
     "output_type": "execute_result"
    }
   ],
   "source": [
    "posts_viewed.head()"
   ]
  },
  {
   "cell_type": "code",
   "execution_count": 10,
   "id": "d4305faa",
   "metadata": {},
   "outputs": [],
   "source": [
    "time3 = [x['string_map_data']['Time'] for x in accounts['impressions_history_chaining_seen']]"
   ]
  },
  {
   "cell_type": "code",
   "execution_count": 11,
   "id": "2e69dbd2",
   "metadata": {},
   "outputs": [],
   "source": [
    "accounts_viewed = pd.DataFrame(time3)"
   ]
  },
  {
   "cell_type": "code",
   "execution_count": 12,
   "id": "01107ca7",
   "metadata": {},
   "outputs": [
    {
     "data": {
      "text/html": [
       "<div>\n",
       "<style scoped>\n",
       "    .dataframe tbody tr th:only-of-type {\n",
       "        vertical-align: middle;\n",
       "    }\n",
       "\n",
       "    .dataframe tbody tr th {\n",
       "        vertical-align: top;\n",
       "    }\n",
       "\n",
       "    .dataframe thead th {\n",
       "        text-align: right;\n",
       "    }\n",
       "</style>\n",
       "<table border=\"1\" class=\"dataframe\">\n",
       "  <thead>\n",
       "    <tr style=\"text-align: right;\">\n",
       "      <th></th>\n",
       "      <th>href</th>\n",
       "      <th>value</th>\n",
       "      <th>timestamp</th>\n",
       "    </tr>\n",
       "  </thead>\n",
       "  <tbody>\n",
       "    <tr>\n",
       "      <th>0</th>\n",
       "      <td></td>\n",
       "      <td></td>\n",
       "      <td>1598288144</td>\n",
       "    </tr>\n",
       "    <tr>\n",
       "      <th>1</th>\n",
       "      <td></td>\n",
       "      <td></td>\n",
       "      <td>1591772563</td>\n",
       "    </tr>\n",
       "    <tr>\n",
       "      <th>2</th>\n",
       "      <td></td>\n",
       "      <td></td>\n",
       "      <td>1588995825</td>\n",
       "    </tr>\n",
       "    <tr>\n",
       "      <th>3</th>\n",
       "      <td></td>\n",
       "      <td></td>\n",
       "      <td>1587440980</td>\n",
       "    </tr>\n",
       "    <tr>\n",
       "      <th>4</th>\n",
       "      <td></td>\n",
       "      <td></td>\n",
       "      <td>1587440971</td>\n",
       "    </tr>\n",
       "  </tbody>\n",
       "</table>\n",
       "</div>"
      ],
      "text/plain": [
       "  href value   timestamp\n",
       "0             1598288144\n",
       "1             1591772563\n",
       "2             1588995825\n",
       "3             1587440980\n",
       "4             1587440971"
      ]
     },
     "execution_count": 12,
     "metadata": {},
     "output_type": "execute_result"
    }
   ],
   "source": [
    "accounts_viewed.head()"
   ]
  },
  {
   "cell_type": "code",
   "execution_count": 13,
   "id": "c3ef68e0",
   "metadata": {},
   "outputs": [],
   "source": [
    "time4 = [x['string_map_data']['Time'] for x in videos['impressions_history_videos_watched']]"
   ]
  },
  {
   "cell_type": "code",
   "execution_count": 14,
   "id": "fccd2ceb",
   "metadata": {},
   "outputs": [],
   "source": [
    "videos_viewed = pd.DataFrame(time4)"
   ]
  },
  {
   "cell_type": "code",
   "execution_count": 15,
   "id": "bff2bb7b",
   "metadata": {},
   "outputs": [
    {
     "data": {
      "text/html": [
       "<div>\n",
       "<style scoped>\n",
       "    .dataframe tbody tr th:only-of-type {\n",
       "        vertical-align: middle;\n",
       "    }\n",
       "\n",
       "    .dataframe tbody tr th {\n",
       "        vertical-align: top;\n",
       "    }\n",
       "\n",
       "    .dataframe thead th {\n",
       "        text-align: right;\n",
       "    }\n",
       "</style>\n",
       "<table border=\"1\" class=\"dataframe\">\n",
       "  <thead>\n",
       "    <tr style=\"text-align: right;\">\n",
       "      <th></th>\n",
       "      <th>href</th>\n",
       "      <th>value</th>\n",
       "      <th>timestamp</th>\n",
       "    </tr>\n",
       "  </thead>\n",
       "  <tbody>\n",
       "    <tr>\n",
       "      <th>0</th>\n",
       "      <td></td>\n",
       "      <td></td>\n",
       "      <td>1630454346</td>\n",
       "    </tr>\n",
       "    <tr>\n",
       "      <th>1</th>\n",
       "      <td></td>\n",
       "      <td></td>\n",
       "      <td>1630453922</td>\n",
       "    </tr>\n",
       "    <tr>\n",
       "      <th>2</th>\n",
       "      <td></td>\n",
       "      <td></td>\n",
       "      <td>1630454666</td>\n",
       "    </tr>\n",
       "    <tr>\n",
       "      <th>3</th>\n",
       "      <td></td>\n",
       "      <td></td>\n",
       "      <td>1630454973</td>\n",
       "    </tr>\n",
       "    <tr>\n",
       "      <th>4</th>\n",
       "      <td></td>\n",
       "      <td></td>\n",
       "      <td>1630455019</td>\n",
       "    </tr>\n",
       "  </tbody>\n",
       "</table>\n",
       "</div>"
      ],
      "text/plain": [
       "  href value   timestamp\n",
       "0             1630454346\n",
       "1             1630453922\n",
       "2             1630454666\n",
       "3             1630454973\n",
       "4             1630455019"
      ]
     },
     "execution_count": 15,
     "metadata": {},
     "output_type": "execute_result"
    }
   ],
   "source": [
    "videos_viewed.head()"
   ]
  },
  {
   "cell_type": "markdown",
   "id": "feab06fa",
   "metadata": {},
   "source": [
    "**Taking the timestamps and turning them into readable dates and time.**"
   ]
  },
  {
   "cell_type": "code",
   "execution_count": 65,
   "id": "7fe85aa0",
   "metadata": {},
   "outputs": [
    {
     "name": "stdout",
     "output_type": "stream",
     "text": [
      "8 31 2021\n",
      "8 31 2021\n",
      "8 31 2021\n",
      "8 31 2021\n",
      "8 31 2021\n",
      "8 31 2021\n",
      "9 1 2021\n",
      "9 1 2021\n",
      "9 1 2021\n",
      "9 1 2021\n"
     ]
    }
   ],
   "source": [
    "x = list(ads_viewed_time['timestamp'][0:10])\n",
    "i = 0\n",
    "while i < len(x):\n",
    "    a_time = dt.utcfromtimestamp(ads_viewed_time['timestamp'][i])\n",
    "    print(a_time.month, a_time.day, a_time.year)\n",
    "    i = i + 1"
   ]
  },
  {
   "cell_type": "code",
   "execution_count": 66,
   "id": "ff350b1b",
   "metadata": {},
   "outputs": [
    {
     "name": "stdout",
     "output_type": "stream",
     "text": [
      "8 31 2021\n",
      "8 31 2021\n",
      "8 31 2021\n",
      "8 31 2021\n",
      "8 31 2021\n",
      "8 31 2021\n",
      "8 31 2021\n",
      "8 31 2021\n",
      "8 31 2021\n",
      "8 31 2021\n"
     ]
    }
   ],
   "source": [
    "x1 = list(posts_viewed['timestamp'][0:10])\n",
    "i = 0\n",
    "while i < len(x1):\n",
    "    a_time = dt.utcfromtimestamp(posts_viewed['timestamp'][i])\n",
    "    print(a_time.month, a_time.day, a_time.year)\n",
    "    i = i + 1"
   ]
  },
  {
   "cell_type": "code",
   "execution_count": 67,
   "id": "f58b9699",
   "metadata": {},
   "outputs": [
    {
     "name": "stdout",
     "output_type": "stream",
     "text": [
      "8 24 2020\n",
      "6 10 2020\n",
      "5 9 2020\n",
      "4 21 2020\n",
      "4 21 2020\n",
      "3 30 2019\n",
      "3 30 2019\n",
      "3 30 2019\n",
      "3 30 2019\n",
      "3 29 2019\n"
     ]
    }
   ],
   "source": [
    "x2 = list(accounts_viewed['timestamp'][0:10])\n",
    "i = 0\n",
    "while i < len(x2):\n",
    "    a_time = dt.utcfromtimestamp(accounts_viewed['timestamp'][i])\n",
    "    print(a_time.month, a_time.day, a_time.year)\n",
    "    i = i + 1"
   ]
  },
  {
   "cell_type": "code",
   "execution_count": 68,
   "id": "6b8d66ad",
   "metadata": {},
   "outputs": [
    {
     "name": "stdout",
     "output_type": "stream",
     "text": [
      "8 31 2021\n",
      "8 31 2021\n",
      "9 1 2021\n",
      "9 1 2021\n",
      "9 1 2021\n",
      "9 1 2021\n",
      "9 1 2021\n",
      "9 1 2021\n",
      "9 1 2021\n",
      "9 1 2021\n"
     ]
    }
   ],
   "source": [
    "x3 = list(videos_viewed['timestamp'][0:10])\n",
    "i = 0\n",
    "while i < len(x3):\n",
    "    a_time = dt.utcfromtimestamp(videos_viewed['timestamp'][i])\n",
    "    print(a_time.month, a_time.day, a_time.year)\n",
    "    i = i + 1"
   ]
  },
  {
   "cell_type": "markdown",
   "id": "06b48c1a",
   "metadata": {},
   "source": [
    "**Using the dates and times from each data source and making charts to compare the timestamps for each. I made these charts so that it can be easily seen what times throughout the year are most active. The x-axis will be each month and the y-axis will be timestamps.**"
   ]
  },
  {
   "cell_type": "code",
   "execution_count": 60,
   "id": "f62ed6f9",
   "metadata": {},
   "outputs": [
    {
     "data": {
      "image/png": "[encoded data removed]",
      "text/plain": [
       "<Figure size 720x720 with 4 Axes>"
      ]
     },
     "metadata": {
      "needs_background": "light"
     },
     "output_type": "display_data"
    }
   ],
   "source": [
    "fig1, ax1 = plt.subplots(2, 2, figsize = (10, 10))\n",
    "ax1[0, 0].plot(ads_viewed_time['timestamp'].iloc[0:70], color = 'blue')\n",
    "ax1[0, 0].set_title('Ads Viewed')\n",
    "ax1[0, 1].plot(posts_viewed['timestamp'].iloc[0:70], color = 'red')\n",
    "ax1[0, 1].set_title('Posts Viewed')\n",
    "ax1[1, 0].plot(accounts_viewed['timestamp'].iloc[0:70], color = 'yellow')\n",
    "ax1[1, 0].set_title('Suggested Accounts Viewed')\n",
    "ax1[1, 1].plot(videos_viewed['timestamp'].iloc[0:70], color = 'green')\n",
    "ax1[1, 1].set_title('Videos Viewed')\n",
    "plt.show()"
   ]
  },
  {
   "cell_type": "code",
   "execution_count": null,
   "id": "ff065f7b",
   "metadata": {},
   "outputs": [],
   "source": []
  }
 ],
 "metadata": {
  "kernelspec": {
   "display_name": "Python 3 (ipykernel)",
   "language": "python",
   "name": "python3"
  },
  "language_info": {
   "codemirror_mode": {
    "name": "ipython",
    "version": 3
   },
   "file_extension": ".py",
   "mimetype": "text/x-python",
   "name": "python",
   "nbconvert_exporter": "python",
   "pygments_lexer": "ipython3",
   "version": "3.9.6"
  }
 },
 "nbformat": 4,
 "nbformat_minor": 5
}
