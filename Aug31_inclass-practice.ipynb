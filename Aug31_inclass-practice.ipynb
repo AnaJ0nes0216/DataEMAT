{
 "cells": [
  {
   "cell_type": "markdown",
   "id": "7fb26cb5",
   "metadata": {},
   "source": [
    "3+4"
   ]
  },
  {
   "cell_type": "code",
   "execution_count": 1,
   "id": "aace2bf1",
   "metadata": {},
   "outputs": [
    {
     "data": {
      "text/plain": [
       "33337"
      ]
     },
     "execution_count": 1,
     "metadata": {},
     "output_type": "execute_result"
    }
   ],
   "source": [
    "33333+4"
   ]
  },
  {
   "cell_type": "code",
   "execution_count": 1,
   "id": "fb455661",
   "metadata": {},
   "outputs": [],
   "source": [
    "x = [0,1,2,3,4,]"
   ]
  },
  {
   "cell_type": "code",
   "execution_count": 6,
   "id": "eeb059c6",
   "metadata": {},
   "outputs": [
    {
     "name": "stdout",
     "output_type": "stream",
     "text": [
      "silly cat\n",
      "silly parrot\n"
     ]
    }
   ],
   "source": [
    "def sillything(x):\n",
    "    return \"silly \" + str(x)\n",
    "\n",
    "print(sillything(\"cat\"))\n",
    "\n",
    "k = sillything(\"parrot\")\n",
    "print(k)"
   ]
  },
  {
   "cell_type": "code",
   "execution_count": 3,
   "id": "375ab2bc",
   "metadata": {},
   "outputs": [
    {
     "data": {
      "text/plain": [
       "'silly hi'"
      ]
     },
     "execution_count": 3,
     "metadata": {},
     "output_type": "execute_result"
    }
   ],
   "source": [
    "sillything(\"hi\")"
   ]
  },
  {
   "cell_type": "code",
   "execution_count": 9,
   "id": "d28ff0fc",
   "metadata": {},
   "outputs": [
    {
     "name": "stdout",
     "output_type": "stream",
     "text": [
      "silly dog\n"
     ]
    }
   ],
   "source": [
    "j = sillything(\"dog\")\n",
    "print(j)"
   ]
  },
  {
   "cell_type": "markdown",
   "id": "bdbe7e22",
   "metadata": {},
   "source": [
    "y=codecell\n",
    "m=markdown\n",
    "a=addabove\n",
    "b=addbelow\n",
    "double d=delete"
   ]
  },
  {
   "cell_type": "markdown",
   "id": "89e8f33c",
   "metadata": {},
   "source": []
  }
 ],
 "metadata": {
  "kernelspec": {
   "display_name": "Python 3 (ipykernel)",
   "language": "python",
   "name": "python3"
  },
  "language_info": {
   "codemirror_mode": {
    "name": "ipython",
    "version": 3
   },
   "file_extension": ".py",
   "mimetype": "text/x-python",
   "name": "python",
   "nbconvert_exporter": "python",
   "pygments_lexer": "ipython3",
   "version": "3.9.6"
  }
 },
 "nbformat": 4,
 "nbformat_minor": 5
}
