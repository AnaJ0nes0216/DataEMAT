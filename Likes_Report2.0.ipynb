{
 "cells": [
  {
   "cell_type": "markdown",
   "id": "1dd5cf54",
   "metadata": {},
   "source": [
    "# \"Likes\" Report\n",
    "### EMAT 22110 - Data in Emerging Media and Technology\n",
    "### By Anamarie Jones\n",
    "### Created: 9/3/21\n",
    "### Last Updated: 9/21/21"
   ]
  },
  {
   "cell_type": "markdown",
   "id": "1f39766f",
   "metadata": {},
   "source": [
    "#### Import pandas and json. Json file imported from Downloads, Instagram data, liked posts."
   ]
  },
  {
   "cell_type": "code",
   "execution_count": 117,
   "id": "20bbf148",
   "metadata": {},
   "outputs": [],
   "source": [
    "import pandas as pd\n",
    "import json"
   ]
  },
  {
   "cell_type": "code",
   "execution_count": 118,
   "id": "edb91432",
   "metadata": {},
   "outputs": [
    {
     "data": {
      "text/plain": [
       "dict_keys(['likes_media_likes'])"
      ]
     },
     "execution_count": 118,
     "metadata": {},
     "output_type": "execute_result"
    }
   ],
   "source": [
    "with open(r\"C:\\Users\\Anamarie Jones\\Downloads\\ana_jones0216_20210907\\likes\\liked_posts.json\") as p:\n",
    "          lik = json.load(p)\n",
    "lik.keys()"
   ]
  },
  {
   "cell_type": "code",
   "execution_count": 119,
   "id": "b158dd58",
   "metadata": {},
   "outputs": [
    {
     "data": {
      "text/plain": [
       "list"
      ]
     },
     "execution_count": 119,
     "metadata": {},
     "output_type": "execute_result"
    }
   ],
   "source": [
    "type(lik['likes_media_likes'])"
   ]
  },
  {
   "cell_type": "markdown",
   "id": "f63be580",
   "metadata": {},
   "source": [
    "#### Convert data to DataFrame using Pandas. Use .keys() to figure out which is best to use."
   ]
  },
  {
   "cell_type": "code",
   "execution_count": 121,
   "id": "471b8d3c",
   "metadata": {},
   "outputs": [],
   "source": [
    "df_likes = pd.DataFrame(lik['likes_media_likes'])"
   ]
  },
  {
   "cell_type": "code",
   "execution_count": 122,
   "id": "ed11f544",
   "metadata": {},
   "outputs": [
    {
     "data": {
      "text/plain": [
       "dict_keys(['title', 'media_list_data', 'string_list_data'])"
      ]
     },
     "execution_count": 122,
     "metadata": {},
     "output_type": "execute_result"
    }
   ],
   "source": [
    "lik['likes_media_likes'][0].keys()"
   ]
  },
  {
   "cell_type": "markdown",
   "id": "6834174c",
   "metadata": {},
   "source": [
    "#### Defined the columns values before putting them into a DataFrame."
   ]
  },
  {
   "cell_type": "code",
   "execution_count": 123,
   "id": "9c23c21a",
   "metadata": {
    "scrolled": true
   },
   "outputs": [],
   "source": [
    "name = [x['title'] for x in lik['likes_media_likes']]\n",
    "liks = [x['media_list_data'] for x in lik['likes_media_likes']]\n",
    "timestamp = [x['string_list_data'][0]['timestamp'] for x in lik['likes_media_likes']]"
   ]
  },
  {
   "cell_type": "code",
   "execution_count": 124,
   "id": "743e93aa",
   "metadata": {},
   "outputs": [],
   "source": [
    "df_likes2 = pd.DataFrame(columns = ('Username', 'Likes', 'Timestamp'))\n",
    "df_likes2['Username'] = name\n",
    "df_likes2['Likes'] = liks\n",
    "df_likes2['Timestamp'] = timestamp"
   ]
  },
  {
   "cell_type": "markdown",
   "id": "ca5f8e93",
   "metadata": {},
   "source": [
    "#### Create new column for the timestamp values"
   ]
  },
  {
   "cell_type": "code",
   "execution_count": 125,
   "id": "8ddbb4df",
   "metadata": {},
   "outputs": [
    {
     "data": {
      "text/html": [
       "<div>\n",
       "<style scoped>\n",
       "    .dataframe tbody tr th:only-of-type {\n",
       "        vertical-align: middle;\n",
       "    }\n",
       "\n",
       "    .dataframe tbody tr th {\n",
       "        vertical-align: top;\n",
       "    }\n",
       "\n",
       "    .dataframe thead th {\n",
       "        text-align: right;\n",
       "    }\n",
       "</style>\n",
       "<table border=\"1\" class=\"dataframe\">\n",
       "  <thead>\n",
       "    <tr style=\"text-align: right;\">\n",
       "      <th></th>\n",
       "      <th>Username</th>\n",
       "      <th>Likes</th>\n",
       "      <th>Timestamp</th>\n",
       "    </tr>\n",
       "  </thead>\n",
       "  <tbody>\n",
       "    <tr>\n",
       "      <th>0</th>\n",
       "      <td>rose__golds</td>\n",
       "      <td>[]</td>\n",
       "      <td>1451226281</td>\n",
       "    </tr>\n",
       "    <tr>\n",
       "      <th>1</th>\n",
       "      <td>julia.c.menendez</td>\n",
       "      <td>[]</td>\n",
       "      <td>1451226262</td>\n",
       "    </tr>\n",
       "    <tr>\n",
       "      <th>2</th>\n",
       "      <td>mary.rohrer</td>\n",
       "      <td>[]</td>\n",
       "      <td>1451226208</td>\n",
       "    </tr>\n",
       "    <tr>\n",
       "      <th>3</th>\n",
       "      <td>rose__golds</td>\n",
       "      <td>[]</td>\n",
       "      <td>1451226159</td>\n",
       "    </tr>\n",
       "    <tr>\n",
       "      <th>4</th>\n",
       "      <td>rose__golds</td>\n",
       "      <td>[]</td>\n",
       "      <td>1451226156</td>\n",
       "    </tr>\n",
       "    <tr>\n",
       "      <th>...</th>\n",
       "      <td>...</td>\n",
       "      <td>...</td>\n",
       "      <td>...</td>\n",
       "    </tr>\n",
       "    <tr>\n",
       "      <th>4138</th>\n",
       "      <td>__evie_k__</td>\n",
       "      <td>[]</td>\n",
       "      <td>1597896789</td>\n",
       "    </tr>\n",
       "    <tr>\n",
       "      <th>4139</th>\n",
       "      <td>kathleen.brunner</td>\n",
       "      <td>[]</td>\n",
       "      <td>1597896767</td>\n",
       "    </tr>\n",
       "    <tr>\n",
       "      <th>4140</th>\n",
       "      <td>paige_bren</td>\n",
       "      <td>[]</td>\n",
       "      <td>1597712640</td>\n",
       "    </tr>\n",
       "    <tr>\n",
       "      <th>4141</th>\n",
       "      <td>haleyhanchin</td>\n",
       "      <td>[]</td>\n",
       "      <td>1597601744</td>\n",
       "    </tr>\n",
       "    <tr>\n",
       "      <th>4142</th>\n",
       "      <td>mkrisby13</td>\n",
       "      <td>[]</td>\n",
       "      <td>1597537945</td>\n",
       "    </tr>\n",
       "  </tbody>\n",
       "</table>\n",
       "<p>4143 rows × 3 columns</p>\n",
       "</div>"
      ],
      "text/plain": [
       "              Username Likes   Timestamp\n",
       "0          rose__golds    []  1451226281\n",
       "1     julia.c.menendez    []  1451226262\n",
       "2          mary.rohrer    []  1451226208\n",
       "3          rose__golds    []  1451226159\n",
       "4          rose__golds    []  1451226156\n",
       "...                ...   ...         ...\n",
       "4138        __evie_k__    []  1597896789\n",
       "4139  kathleen.brunner    []  1597896767\n",
       "4140        paige_bren    []  1597712640\n",
       "4141      haleyhanchin    []  1597601744\n",
       "4142         mkrisby13    []  1597537945\n",
       "\n",
       "[4143 rows x 3 columns]"
      ]
     },
     "execution_count": 125,
     "metadata": {},
     "output_type": "execute_result"
    }
   ],
   "source": [
    "df_likes2"
   ]
  },
  {
   "cell_type": "markdown",
   "id": "e54c0b6b",
   "metadata": {},
   "source": [
    "#### Summerize number of likes by account using groupby() and count()"
   ]
  },
  {
   "cell_type": "code",
   "execution_count": 126,
   "id": "9c82ff5d",
   "metadata": {
    "scrolled": true
   },
   "outputs": [
    {
     "data": {
      "text/html": [
       "<div>\n",
       "<style scoped>\n",
       "    .dataframe tbody tr th:only-of-type {\n",
       "        vertical-align: middle;\n",
       "    }\n",
       "\n",
       "    .dataframe tbody tr th {\n",
       "        vertical-align: top;\n",
       "    }\n",
       "\n",
       "    .dataframe thead th {\n",
       "        text-align: right;\n",
       "    }\n",
       "</style>\n",
       "<table border=\"1\" class=\"dataframe\">\n",
       "  <thead>\n",
       "    <tr style=\"text-align: right;\">\n",
       "      <th></th>\n",
       "      <th>Likes</th>\n",
       "      <th>Timestamp</th>\n",
       "    </tr>\n",
       "    <tr>\n",
       "      <th>Username</th>\n",
       "      <th></th>\n",
       "      <th></th>\n",
       "    </tr>\n",
       "  </thead>\n",
       "  <tbody>\n",
       "    <tr>\n",
       "      <th>amazingnailpics</th>\n",
       "      <td>224</td>\n",
       "      <td>224</td>\n",
       "    </tr>\n",
       "    <tr>\n",
       "      <th>leah.n.jones</th>\n",
       "      <td>173</td>\n",
       "      <td>173</td>\n",
       "    </tr>\n",
       "    <tr>\n",
       "      <th>angchick24</th>\n",
       "      <td>127</td>\n",
       "      <td>127</td>\n",
       "    </tr>\n",
       "    <tr>\n",
       "      <th>cj_happel</th>\n",
       "      <td>105</td>\n",
       "      <td>105</td>\n",
       "    </tr>\n",
       "    <tr>\n",
       "      <th>julia.c.menendez</th>\n",
       "      <td>91</td>\n",
       "      <td>91</td>\n",
       "    </tr>\n",
       "    <tr>\n",
       "      <th>...</th>\n",
       "      <td>...</td>\n",
       "      <td>...</td>\n",
       "    </tr>\n",
       "    <tr>\n",
       "      <th>netflixnmovies</th>\n",
       "      <td>1</td>\n",
       "      <td>1</td>\n",
       "    </tr>\n",
       "    <tr>\n",
       "      <th>netflixtrendlng</th>\n",
       "      <td>1</td>\n",
       "      <td>1</td>\n",
       "    </tr>\n",
       "    <tr>\n",
       "      <th>netflixtweetss</th>\n",
       "      <td>1</td>\n",
       "      <td>1</td>\n",
       "    </tr>\n",
       "    <tr>\n",
       "      <th>nfl</th>\n",
       "      <td>1</td>\n",
       "      <td>1</td>\n",
       "    </tr>\n",
       "    <tr>\n",
       "      <th>kalesaladvideos</th>\n",
       "      <td>1</td>\n",
       "      <td>1</td>\n",
       "    </tr>\n",
       "  </tbody>\n",
       "</table>\n",
       "<p>523 rows × 2 columns</p>\n",
       "</div>"
      ],
      "text/plain": [
       "                  Likes  Timestamp\n",
       "Username                          \n",
       "amazingnailpics     224        224\n",
       "leah.n.jones        173        173\n",
       "angchick24          127        127\n",
       "cj_happel           105        105\n",
       "julia.c.menendez     91         91\n",
       "...                 ...        ...\n",
       "netflixnmovies        1          1\n",
       "netflixtrendlng       1          1\n",
       "netflixtweetss        1          1\n",
       "nfl                   1          1\n",
       "kalesaladvideos       1          1\n",
       "\n",
       "[523 rows x 2 columns]"
      ]
     },
     "execution_count": 126,
     "metadata": {},
     "output_type": "execute_result"
    }
   ],
   "source": [
    "df_likes2.groupby('Username').count().sort_values('Likes', ascending = False)"
   ]
  },
  {
   "cell_type": "markdown",
   "id": "626c9a76",
   "metadata": {},
   "source": [
    "#### Who collected this data? (we downloaded the data, but did we collect it?)\n",
    "Instagram is owned by Facebook so they share data collected. They collect their data when users interact with ads, searches, other users an all other types of actions.\n",
    "\n",
    "#### Why was this data collected? (other than to complete this assignment)\n",
    "This data was collected for Instagram and Facebook to individualize content that users are shown. They use an algorithym that adapts which ads are shown to a user based on data collected on them. This can specify age, gender, hobbies, friends and family along with many other demographics.\n",
    "\n",
    "#### In what ways may this data be reliable?\n",
    "This data is reliable becasue it is data that has been specifically collected by actions taken by the user and by others. \n",
    "\n",
    "#### In what ways may this data be unreliable?\n",
    "I think that this data can be unreliable because data is collected from humans and humans are imperfect. This can cause the data to become skewed at some point when user errors occur."
   ]
  },
  {
   "cell_type": "markdown",
   "id": "1d3d4bf5",
   "metadata": {},
   "source": [
    "### Do more interactions on a post cause Instagram's algorithym to make the post impressions rize? If the number of interactions on a post are high the post insights will increase."
   ]
  },
  {
   "cell_type": "markdown",
   "id": "34e6174e",
   "metadata": {},
   "source": [
    "#### Import json from downloads, instagram data, past_instagram_insights, posts."
   ]
  },
  {
   "cell_type": "code",
   "execution_count": 127,
   "id": "35ecc38d",
   "metadata": {
    "scrolled": false
   },
   "outputs": [
    {
     "data": {
      "text/plain": [
       "dict_keys(['organic_insights_posts'])"
      ]
     },
     "execution_count": 127,
     "metadata": {},
     "output_type": "execute_result"
    }
   ],
   "source": [
    "with open (r\"C:\\Users\\Anamarie Jones\\Downloads\\ana_jones0216_20210907\\past_instagram_insights\\posts.json\") as r:\n",
    "    reach = json.load(r)\n",
    "reach.keys()"
   ]
  },
  {
   "cell_type": "markdown",
   "id": "8f7ab6d3",
   "metadata": {},
   "source": [
    "#### The data needed is inside string_map_data so it has to by properly called out to get the correct values. Created arrays to locate each value and put them into a loop. The looped arrays get called when insights DataFrame is made and turn into a readable table of values to compare."
   ]
  },
  {
   "cell_type": "code",
   "execution_count": 129,
   "id": "4e468f57",
   "metadata": {},
   "outputs": [],
   "source": [
    "profilev = []\n",
    "impress = []\n",
    "follows = []\n",
    "accreach = []\n",
    "saves = []\n",
    "likes = []\n",
    "comments = []\n",
    "shares = []\n",
    "timestamp = []\n",
    "\n",
    "for i in reach['organic_insights_posts']:\n",
    "    profilev.append(i['string_map_data']['Profile Visits']['value'])\n",
    "    impress.append(i['string_map_data']['Impressions']['value'])\n",
    "    follows.append(i['string_map_data']['Follows']['value'])\n",
    "    accreach.append(i['string_map_data']['Accounts Reached']['value'])\n",
    "    saves.append(i['string_map_data']['Saves']['value'])\n",
    "    likes.append(i['string_map_data']['Likes']['value'])\n",
    "    comments.append(i['string_map_data']['Comments']['value'])\n",
    "    shares.append(i['string_map_data']['Shares']['value'])\n",
    "    timestamp.append(i['string_map_data']['Creation Timestamp']['timestamp'])"
   ]
  },
  {
   "cell_type": "code",
   "execution_count": 130,
   "id": "bce52bae",
   "metadata": {},
   "outputs": [
    {
     "data": {
      "text/html": [
       "<div>\n",
       "<style scoped>\n",
       "    .dataframe tbody tr th:only-of-type {\n",
       "        vertical-align: middle;\n",
       "    }\n",
       "\n",
       "    .dataframe tbody tr th {\n",
       "        vertical-align: top;\n",
       "    }\n",
       "\n",
       "    .dataframe thead th {\n",
       "        text-align: right;\n",
       "    }\n",
       "</style>\n",
       "<table border=\"1\" class=\"dataframe\">\n",
       "  <thead>\n",
       "    <tr style=\"text-align: right;\">\n",
       "      <th></th>\n",
       "      <th>Profile Visits</th>\n",
       "      <th>Impressions</th>\n",
       "      <th>Follows</th>\n",
       "      <th>Accounts Reached</th>\n",
       "      <th>Saves</th>\n",
       "      <th>Likes</th>\n",
       "      <th>Comments</th>\n",
       "      <th>Shares</th>\n",
       "      <th>Timestamp</th>\n",
       "    </tr>\n",
       "  </thead>\n",
       "  <tbody>\n",
       "    <tr>\n",
       "      <th>0</th>\n",
       "      <td>36</td>\n",
       "      <td>583</td>\n",
       "      <td>2</td>\n",
       "      <td>515</td>\n",
       "      <td>0</td>\n",
       "      <td>113</td>\n",
       "      <td>0</td>\n",
       "      <td>0</td>\n",
       "      <td>1630543386</td>\n",
       "    </tr>\n",
       "    <tr>\n",
       "      <th>1</th>\n",
       "      <td>109</td>\n",
       "      <td>964</td>\n",
       "      <td>2</td>\n",
       "      <td>744</td>\n",
       "      <td>2</td>\n",
       "      <td>191</td>\n",
       "      <td>3</td>\n",
       "      <td>0</td>\n",
       "      <td>1626808547</td>\n",
       "    </tr>\n",
       "    <tr>\n",
       "      <th>2</th>\n",
       "      <td>33</td>\n",
       "      <td>1,372</td>\n",
       "      <td>2</td>\n",
       "      <td>900</td>\n",
       "      <td>1</td>\n",
       "      <td>173</td>\n",
       "      <td>18</td>\n",
       "      <td>0</td>\n",
       "      <td>1600718707</td>\n",
       "    </tr>\n",
       "    <tr>\n",
       "      <th>3</th>\n",
       "      <td>32</td>\n",
       "      <td>1,471</td>\n",
       "      <td>0</td>\n",
       "      <td>953</td>\n",
       "      <td>0</td>\n",
       "      <td>161</td>\n",
       "      <td>3</td>\n",
       "      <td>1</td>\n",
       "      <td>1589062288</td>\n",
       "    </tr>\n",
       "  </tbody>\n",
       "</table>\n",
       "</div>"
      ],
      "text/plain": [
       "  Profile Visits Impressions Follows Accounts Reached Saves Likes Comments  \\\n",
       "0             36         583       2              515     0   113        0   \n",
       "1            109         964       2              744     2   191        3   \n",
       "2             33       1,372       2              900     1   173       18   \n",
       "3             32       1,471       0              953     0   161        3   \n",
       "\n",
       "  Shares   Timestamp  \n",
       "0      0  1630543386  \n",
       "1      0  1626808547  \n",
       "2      0  1600718707  \n",
       "3      1  1589062288  "
      ]
     },
     "execution_count": 130,
     "metadata": {},
     "output_type": "execute_result"
    }
   ],
   "source": [
    "insights = pd.DataFrame(columns = ('Profile Visits', 'Impressions', 'Follows', 'Accounts Reached', 'Saves', 'Likes', 'Comments', 'Shares', 'Timestamp'))\n",
    "insights['Profile Visits'] = profilev\n",
    "insights['Impressions'] = impress\n",
    "insights['Follows'] = follows\n",
    "insights['Accounts Reached'] = accreach\n",
    "insights['Saves'] = saves\n",
    "insights['Likes'] = likes\n",
    "insights['Comments'] = comments\n",
    "insights['Shares'] = shares\n",
    "insights['Timestamp'] = timestamp\n",
    "insights"
   ]
  },
  {
   "cell_type": "markdown",
   "id": "478682ed",
   "metadata": {},
   "source": [
    "#### In conclusion I learned older posts have a higher amount of impressions than newer posts reguardless of other interations. I found this data interesting because I always thought that Instagram 'likes' helped to raise impressions on a post. The data showed that the impressions increased respectively to the timestamp of my posts. The data also tells me that no other interaction on my post aligned with the number of impressions on my post.\n",
    "\n",
    "#### This data is limited because of the limited number of posts shown and lack of the time between each post. I would need more data about the posts themselves and what caused them to have more impressions than the others. Data about the amount of followers total at each post date or how instagram presents my posts to other users."
   ]
  }
 ],
 "metadata": {
  "kernelspec": {
   "display_name": "Python 3 (ipykernel)",
   "language": "python",
   "name": "python3"
  },
  "language_info": {
   "codemirror_mode": {
    "name": "ipython",
    "version": 3
   },
   "file_extension": ".py",
   "mimetype": "text/x-python",
   "name": "python",
   "nbconvert_exporter": "python",
   "pygments_lexer": "ipython3",
   "version": "3.9.6"
  }
 },
 "nbformat": 4,
 "nbformat_minor": 5
}
