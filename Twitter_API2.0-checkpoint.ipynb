{
 "cells": [
  {
   "cell_type": "markdown",
   "id": "62e64450",
   "metadata": {},
   "source": [
    "****Twiiter API by Anamarie Jones****"
   ]
  },
  {
   "cell_type": "code",
   "execution_count": 3,
   "id": "0b8fd7b7",
   "metadata": {},
   "outputs": [],
   "source": [
    "import pandas as pd\n",
    "import json\n",
    "import requests\n",
    "import urllib\n",
    "import sqlite3"
   ]
  },
  {
   "cell_type": "code",
   "execution_count": 4,
   "id": "23433085",
   "metadata": {},
   "outputs": [],
   "source": [
    "bearer_token = pd.read_csv('Bearer_Token2.0.txt', sep = '\\t', header = 0)"
   ]
  },
  {
   "cell_type": "code",
   "execution_count": 16,
   "id": "6788d5e3",
   "metadata": {},
   "outputs": [],
   "source": [
    "header = {'Authorization' : 'Bearer {}'.format(bearer_token['Bearer_Token'].iloc[0])}"
   ]
  },
  {
   "cell_type": "code",
   "execution_count": 17,
   "id": "68a5f719",
   "metadata": {},
   "outputs": [],
   "source": [
    "response = requests.request(\"GET\", url, headers = header)"
   ]
  },
  {
   "cell_type": "code",
   "execution_count": 18,
   "id": "7f115b79",
   "metadata": {},
   "outputs": [
    {
     "data": {
      "text/plain": [
       "Index(['Bearer_Token'], dtype='object')"
      ]
     },
     "execution_count": 18,
     "metadata": {},
     "output_type": "execute_result"
    }
   ],
   "source": [
    "bearer_token.keys()"
   ]
  },
  {
   "cell_type": "code",
   "execution_count": 19,
   "id": "3e0a1214",
   "metadata": {},
   "outputs": [],
   "source": [
    "endpoint_url = 'https://api.twitter.com/2/tweets/search/recent'"
   ]
  },
  {
   "cell_type": "code",
   "execution_count": 70,
   "id": "af674cab",
   "metadata": {},
   "outputs": [],
   "source": [
    "query = urllib.parse.quote('(#Sweets OR #Sweet OR #Treat OR #Baking OR #Cupcakes OR #Cake OR #Cookies)lang:en')"
   ]
  },
  {
   "cell_type": "markdown",
   "id": "d6d7d281",
   "metadata": {},
   "source": [
    "**Above I create my query by collecting tweet data about different keywords relating to desserts and baking.**"
   ]
  },
  {
   "cell_type": "code",
   "execution_count": 71,
   "id": "6484fe5c",
   "metadata": {},
   "outputs": [
    {
     "data": {
      "text/plain": [
       "'%28%23Sweets%20OR%20%23Sweet%20OR%20%23Treat%20OR%20%23Baking%20OR%20%23Cupcakes%20OR%20%23Cake%20OR%20%23Cookies%29lang%3Aen'"
      ]
     },
     "execution_count": 71,
     "metadata": {},
     "output_type": "execute_result"
    }
   ],
   "source": [
    "query"
   ]
  },
  {
   "cell_type": "code",
   "execution_count": 72,
   "id": "f52db0e1",
   "metadata": {},
   "outputs": [],
   "source": [
    "tweet_fields = 'public_metrics,created_at,author_id,lang'"
   ]
  },
  {
   "cell_type": "code",
   "execution_count": 73,
   "id": "e2d6fd9a",
   "metadata": {},
   "outputs": [],
   "source": [
    "url = endpoint_url + '?query={}&tweet.fields={}'.format(query, tweet_fields)"
   ]
  },
  {
   "cell_type": "code",
   "execution_count": 74,
   "id": "c82b6f18",
   "metadata": {},
   "outputs": [],
   "source": [
    "expansions = 'author_id'"
   ]
  },
  {
   "cell_type": "markdown",
   "id": "5eaf1659",
   "metadata": {},
   "source": [
    "**Below I created a url api for my query results to give me the data I am looking for.**"
   ]
  },
  {
   "cell_type": "code",
   "execution_count": 75,
   "id": "73c4cc4a",
   "metadata": {},
   "outputs": [],
   "source": [
    "url_expansions = endpoint_url + '?query={}&max_results=100&tweet.fields={}&expansions={}&user.fields={}'.format(query, tweet_fields, expansions, 'username')"
   ]
  },
  {
   "cell_type": "code",
   "execution_count": 76,
   "id": "5cdb8afd",
   "metadata": {},
   "outputs": [],
   "source": [
    "response_1 = requests.request(\"GET\", url_expansions, headers = header)"
   ]
  },
  {
   "cell_type": "code",
   "execution_count": 77,
   "id": "114650c4",
   "metadata": {},
   "outputs": [],
   "source": [
    "response_1_dict = json.loads(response_1.text)"
   ]
  },
  {
   "cell_type": "code",
   "execution_count": 78,
   "id": "4ea2c8a9",
   "metadata": {},
   "outputs": [
    {
     "data": {
      "text/plain": [
       "dict_keys(['data', 'includes', 'meta'])"
      ]
     },
     "execution_count": 78,
     "metadata": {},
     "output_type": "execute_result"
    }
   ],
   "source": [
    "response_1_dict.keys()"
   ]
  },
  {
   "cell_type": "code",
   "execution_count": 121,
   "id": "d20cfd74",
   "metadata": {},
   "outputs": [
    {
     "data": {
      "text/plain": [
       "{'newest_id': '1450977271557197826',\n",
       " 'oldest_id': '1450971436395335684',\n",
       " 'result_count': 100,\n",
       " 'next_token': 'b26v89c19zqg8o3fpdv5st4zisox2mpwatkjibn4xf14t'}"
      ]
     },
     "execution_count": 121,
     "metadata": {},
     "output_type": "execute_result"
    }
   ],
   "source": [
    "response_1_dict['meta']"
   ]
  },
  {
   "cell_type": "markdown",
   "id": "ba11273f",
   "metadata": {},
   "source": [
    "**I turn my data into a DataFrame using pandas.**"
   ]
  },
  {
   "cell_type": "code",
   "execution_count": 105,
   "id": "388f445d",
   "metadata": {},
   "outputs": [],
   "source": [
    "user_info = pd.DataFrame(response_1_dict['includes']['users'])"
   ]
  },
  {
   "cell_type": "code",
   "execution_count": 107,
   "id": "c01e107e",
   "metadata": {},
   "outputs": [],
   "source": [
    "my_df = pd.DataFrame(response_1_dict['data'])"
   ]
  },
  {
   "cell_type": "markdown",
   "id": "6d8ad90e",
   "metadata": {},
   "source": [
    "**Below I combine columns from a different data frame into the same one.**"
   ]
  },
  {
   "cell_type": "code",
   "execution_count": 116,
   "id": "6922d080",
   "metadata": {},
   "outputs": [],
   "source": [
    "my_df['name'] = user_info['name']"
   ]
  },
  {
   "cell_type": "code",
   "execution_count": 118,
   "id": "df8ac514",
   "metadata": {},
   "outputs": [],
   "source": [
    "my_df['username'] = user_info['username']"
   ]
  },
  {
   "cell_type": "code",
   "execution_count": 123,
   "id": "ebeaf834",
   "metadata": {},
   "outputs": [],
   "source": [
    "my_df.to_csv(\"twitter_data.csv\")"
   ]
  },
  {
   "cell_type": "code",
   "execution_count": 125,
   "id": "cacb40fa",
   "metadata": {},
   "outputs": [],
   "source": [
    "url_expansions_2 = url_expansions + '&next_token={}'.format(response_1_dict['meta']['next_token'])"
   ]
  },
  {
   "cell_type": "markdown",
   "id": "858393d4",
   "metadata": {},
   "source": [
    "**Above I make a new url api for my new data frame using a new page of my query results.**"
   ]
  },
  {
   "cell_type": "code",
   "execution_count": 127,
   "id": "f795ca14",
   "metadata": {},
   "outputs": [],
   "source": [
    "response_2 = requests.request(\"GET\", url_expansions_2, headers = header)"
   ]
  },
  {
   "cell_type": "code",
   "execution_count": 140,
   "id": "4169f581",
   "metadata": {},
   "outputs": [],
   "source": [
    "my_df_2 = my_df.append(pd.DataFrame(json.loads(response_2.text)['data']), ignore_index= True)"
   ]
  },
  {
   "cell_type": "markdown",
   "id": "8e31380b",
   "metadata": {},
   "source": [
    "**Below I create a table that tells me a username, text, and when the teweet was created.**"
   ]
  },
  {
   "cell_type": "code",
   "execution_count": 129,
   "id": "4295f342",
   "metadata": {},
   "outputs": [
    {
     "data": {
      "text/html": [
       "<div>\n",
       "<style scoped>\n",
       "    .dataframe tbody tr th:only-of-type {\n",
       "        vertical-align: middle;\n",
       "    }\n",
       "\n",
       "    .dataframe tbody tr th {\n",
       "        vertical-align: top;\n",
       "    }\n",
       "\n",
       "    .dataframe thead th {\n",
       "        text-align: right;\n",
       "    }\n",
       "</style>\n",
       "<table border=\"1\" class=\"dataframe\">\n",
       "  <thead>\n",
       "    <tr style=\"text-align: right;\">\n",
       "      <th></th>\n",
       "      <th>author_id</th>\n",
       "      <th>public_metrics</th>\n",
       "      <th>id</th>\n",
       "      <th>text</th>\n",
       "      <th>created_at</th>\n",
       "      <th>lang</th>\n",
       "      <th>name</th>\n",
       "      <th>username</th>\n",
       "    </tr>\n",
       "  </thead>\n",
       "  <tbody>\n",
       "    <tr>\n",
       "      <th>0</th>\n",
       "      <td>1436720852100259849</td>\n",
       "      <td>{'retweet_count': 505, 'reply_count': 0, 'like...</td>\n",
       "      <td>1450977271557197826</td>\n",
       "      <td>RT @jccrypto55: Here is my favorite play \\n$xp...</td>\n",
       "      <td>2021-10-21T00:08:34.000Z</td>\n",
       "      <td>en</td>\n",
       "      <td>🍀meong🍀</td>\n",
       "      <td>jaemcityxxxxxx</td>\n",
       "    </tr>\n",
       "    <tr>\n",
       "      <th>1</th>\n",
       "      <td>1304961757950214145</td>\n",
       "      <td>{'retweet_count': 10, 'reply_count': 0, 'like_...</td>\n",
       "      <td>1450977173469343745</td>\n",
       "      <td>RT @king_cruz4: Happy #Humpday from me and min...</td>\n",
       "      <td>2021-10-21T00:08:10.000Z</td>\n",
       "      <td>en</td>\n",
       "      <td>Zeus</td>\n",
       "      <td>69nerdy</td>\n",
       "    </tr>\n",
       "    <tr>\n",
       "      <th>2</th>\n",
       "      <td>1330961108631494659</td>\n",
       "      <td>{'retweet_count': 0, 'reply_count': 0, 'like_c...</td>\n",
       "      <td>1450977170172563456</td>\n",
       "      <td>@thegrumpyolive @BloggersHut @RTBlogRoyalty @U...</td>\n",
       "      <td>2021-10-21T00:08:09.000Z</td>\n",
       "      <td>en</td>\n",
       "      <td>JustinaMartinez143</td>\n",
       "      <td>Justina29412755</td>\n",
       "    </tr>\n",
       "    <tr>\n",
       "      <th>3</th>\n",
       "      <td>1241140723853840385</td>\n",
       "      <td>{'retweet_count': 505, 'reply_count': 0, 'like...</td>\n",
       "      <td>1450977169711136772</td>\n",
       "      <td>RT @jccrypto55: Here is my favorite play \\n$xp...</td>\n",
       "      <td>2021-10-21T00:08:09.000Z</td>\n",
       "      <td>en</td>\n",
       "      <td>Yupi</td>\n",
       "      <td>girlsquady</td>\n",
       "    </tr>\n",
       "    <tr>\n",
       "      <th>4</th>\n",
       "      <td>1368619637798285315</td>\n",
       "      <td>{'retweet_count': 129, 'reply_count': 0, 'like...</td>\n",
       "      <td>1450977123083116553</td>\n",
       "      <td>RT @vincent_gogh20: #FrostedCake the next #Pan...</td>\n",
       "      <td>2021-10-21T00:07:58.000Z</td>\n",
       "      <td>en</td>\n",
       "      <td>Cute brother</td>\n",
       "      <td>palustra2021</td>\n",
       "    </tr>\n",
       "    <tr>\n",
       "      <th>...</th>\n",
       "      <td>...</td>\n",
       "      <td>...</td>\n",
       "      <td>...</td>\n",
       "      <td>...</td>\n",
       "      <td>...</td>\n",
       "      <td>...</td>\n",
       "      <td>...</td>\n",
       "      <td>...</td>\n",
       "    </tr>\n",
       "    <tr>\n",
       "      <th>195</th>\n",
       "      <td>707205364714967041</td>\n",
       "      <td>{'retweet_count': 0, 'reply_count': 0, 'like_c...</td>\n",
       "      <td>1450965195090808849</td>\n",
       "      <td>Just in from my mole in the Weymouth Moms grou...</td>\n",
       "      <td>2021-10-20T23:20:34.000Z</td>\n",
       "      <td>en</td>\n",
       "      <td>NaN</td>\n",
       "      <td>NaN</td>\n",
       "    </tr>\n",
       "    <tr>\n",
       "      <th>196</th>\n",
       "      <td>1330961108631494659</td>\n",
       "      <td>{'retweet_count': 0, 'reply_count': 0, 'like_c...</td>\n",
       "      <td>1450965070863912963</td>\n",
       "      <td>@Rebeka_White #Free from #Saturday #October 23...</td>\n",
       "      <td>2021-10-20T23:20:05.000Z</td>\n",
       "      <td>en</td>\n",
       "      <td>NaN</td>\n",
       "      <td>NaN</td>\n",
       "    </tr>\n",
       "    <tr>\n",
       "      <th>197</th>\n",
       "      <td>82953545</td>\n",
       "      <td>{'retweet_count': 1, 'reply_count': 0, 'like_c...</td>\n",
       "      <td>1450965018107863048</td>\n",
       "      <td>RT @WeaselMomma: The dark days are over #SHIBA...</td>\n",
       "      <td>2021-10-20T23:19:52.000Z</td>\n",
       "      <td>en</td>\n",
       "      <td>NaN</td>\n",
       "      <td>NaN</td>\n",
       "    </tr>\n",
       "    <tr>\n",
       "      <th>198</th>\n",
       "      <td>1330961108631494659</td>\n",
       "      <td>{'retweet_count': 0, 'reply_count': 0, 'like_c...</td>\n",
       "      <td>1450964992233295878</td>\n",
       "      <td>@thomgrantbruso #Free from #Saturday #October ...</td>\n",
       "      <td>2021-10-20T23:19:46.000Z</td>\n",
       "      <td>en</td>\n",
       "      <td>NaN</td>\n",
       "      <td>NaN</td>\n",
       "    </tr>\n",
       "    <tr>\n",
       "      <th>199</th>\n",
       "      <td>1330961108631494659</td>\n",
       "      <td>{'retweet_count': 0, 'reply_count': 0, 'like_c...</td>\n",
       "      <td>1450964878638915589</td>\n",
       "      <td>@VampaJl #Free from #Saturday #October 23 to #...</td>\n",
       "      <td>2021-10-20T23:19:19.000Z</td>\n",
       "      <td>en</td>\n",
       "      <td>NaN</td>\n",
       "      <td>NaN</td>\n",
       "    </tr>\n",
       "  </tbody>\n",
       "</table>\n",
       "<p>200 rows × 8 columns</p>\n",
       "</div>"
      ],
      "text/plain": [
       "               author_id                                     public_metrics  \\\n",
       "0    1436720852100259849  {'retweet_count': 505, 'reply_count': 0, 'like...   \n",
       "1    1304961757950214145  {'retweet_count': 10, 'reply_count': 0, 'like_...   \n",
       "2    1330961108631494659  {'retweet_count': 0, 'reply_count': 0, 'like_c...   \n",
       "3    1241140723853840385  {'retweet_count': 505, 'reply_count': 0, 'like...   \n",
       "4    1368619637798285315  {'retweet_count': 129, 'reply_count': 0, 'like...   \n",
       "..                   ...                                                ...   \n",
       "195   707205364714967041  {'retweet_count': 0, 'reply_count': 0, 'like_c...   \n",
       "196  1330961108631494659  {'retweet_count': 0, 'reply_count': 0, 'like_c...   \n",
       "197             82953545  {'retweet_count': 1, 'reply_count': 0, 'like_c...   \n",
       "198  1330961108631494659  {'retweet_count': 0, 'reply_count': 0, 'like_c...   \n",
       "199  1330961108631494659  {'retweet_count': 0, 'reply_count': 0, 'like_c...   \n",
       "\n",
       "                      id                                               text  \\\n",
       "0    1450977271557197826  RT @jccrypto55: Here is my favorite play \\n$xp...   \n",
       "1    1450977173469343745  RT @king_cruz4: Happy #Humpday from me and min...   \n",
       "2    1450977170172563456  @thegrumpyolive @BloggersHut @RTBlogRoyalty @U...   \n",
       "3    1450977169711136772  RT @jccrypto55: Here is my favorite play \\n$xp...   \n",
       "4    1450977123083116553  RT @vincent_gogh20: #FrostedCake the next #Pan...   \n",
       "..                   ...                                                ...   \n",
       "195  1450965195090808849  Just in from my mole in the Weymouth Moms grou...   \n",
       "196  1450965070863912963  @Rebeka_White #Free from #Saturday #October 23...   \n",
       "197  1450965018107863048  RT @WeaselMomma: The dark days are over #SHIBA...   \n",
       "198  1450964992233295878  @thomgrantbruso #Free from #Saturday #October ...   \n",
       "199  1450964878638915589  @VampaJl #Free from #Saturday #October 23 to #...   \n",
       "\n",
       "                   created_at lang                name         username  \n",
       "0    2021-10-21T00:08:34.000Z   en             🍀meong🍀   jaemcityxxxxxx  \n",
       "1    2021-10-21T00:08:10.000Z   en                Zeus          69nerdy  \n",
       "2    2021-10-21T00:08:09.000Z   en  JustinaMartinez143  Justina29412755  \n",
       "3    2021-10-21T00:08:09.000Z   en                Yupi       girlsquady  \n",
       "4    2021-10-21T00:07:58.000Z   en        Cute brother     palustra2021  \n",
       "..                        ...  ...                 ...              ...  \n",
       "195  2021-10-20T23:20:34.000Z   en                 NaN              NaN  \n",
       "196  2021-10-20T23:20:05.000Z   en                 NaN              NaN  \n",
       "197  2021-10-20T23:19:52.000Z   en                 NaN              NaN  \n",
       "198  2021-10-20T23:19:46.000Z   en                 NaN              NaN  \n",
       "199  2021-10-20T23:19:19.000Z   en                 NaN              NaN  \n",
       "\n",
       "[200 rows x 8 columns]"
      ]
     },
     "execution_count": 129,
     "metadata": {},
     "output_type": "execute_result"
    }
   ],
   "source": [
    "my_df_2"
   ]
  },
  {
   "cell_type": "code",
   "execution_count": 130,
   "id": "3eae02c2",
   "metadata": {},
   "outputs": [],
   "source": [
    "my_df_2.to_csv(\"twitter_data_2.csv\")"
   ]
  },
  {
   "cell_type": "code",
   "execution_count": 133,
   "id": "c1c6aaba",
   "metadata": {},
   "outputs": [
    {
     "data": {
      "text/html": [
       "<div>\n",
       "<style scoped>\n",
       "    .dataframe tbody tr th:only-of-type {\n",
       "        vertical-align: middle;\n",
       "    }\n",
       "\n",
       "    .dataframe tbody tr th {\n",
       "        vertical-align: top;\n",
       "    }\n",
       "\n",
       "    .dataframe thead th {\n",
       "        text-align: right;\n",
       "    }\n",
       "</style>\n",
       "<table border=\"1\" class=\"dataframe\">\n",
       "  <thead>\n",
       "    <tr style=\"text-align: right;\">\n",
       "      <th></th>\n",
       "      <th>author_id</th>\n",
       "      <th>public_metrics</th>\n",
       "      <th>id</th>\n",
       "      <th>text</th>\n",
       "      <th>created_at</th>\n",
       "      <th>lang</th>\n",
       "      <th>name</th>\n",
       "      <th>username</th>\n",
       "    </tr>\n",
       "  </thead>\n",
       "  <tbody>\n",
       "    <tr>\n",
       "      <th>197</th>\n",
       "      <td>82953545</td>\n",
       "      <td>{'retweet_count': 1, 'reply_count': 0, 'like_c...</td>\n",
       "      <td>1450965018107863048</td>\n",
       "      <td>RT @WeaselMomma: The dark days are over #SHIBA...</td>\n",
       "      <td>2021-10-20T23:19:52.000Z</td>\n",
       "      <td>en</td>\n",
       "      <td>NaN</td>\n",
       "      <td>NaN</td>\n",
       "    </tr>\n",
       "    <tr>\n",
       "      <th>198</th>\n",
       "      <td>1330961108631494659</td>\n",
       "      <td>{'retweet_count': 0, 'reply_count': 0, 'like_c...</td>\n",
       "      <td>1450964992233295878</td>\n",
       "      <td>@thomgrantbruso #Free from #Saturday #October ...</td>\n",
       "      <td>2021-10-20T23:19:46.000Z</td>\n",
       "      <td>en</td>\n",
       "      <td>NaN</td>\n",
       "      <td>NaN</td>\n",
       "    </tr>\n",
       "    <tr>\n",
       "      <th>199</th>\n",
       "      <td>1330961108631494659</td>\n",
       "      <td>{'retweet_count': 0, 'reply_count': 0, 'like_c...</td>\n",
       "      <td>1450964878638915589</td>\n",
       "      <td>@VampaJl #Free from #Saturday #October 23 to #...</td>\n",
       "      <td>2021-10-20T23:19:19.000Z</td>\n",
       "      <td>en</td>\n",
       "      <td>NaN</td>\n",
       "      <td>NaN</td>\n",
       "    </tr>\n",
       "  </tbody>\n",
       "</table>\n",
       "</div>"
      ],
      "text/plain": [
       "               author_id                                     public_metrics  \\\n",
       "197             82953545  {'retweet_count': 1, 'reply_count': 0, 'like_c...   \n",
       "198  1330961108631494659  {'retweet_count': 0, 'reply_count': 0, 'like_c...   \n",
       "199  1330961108631494659  {'retweet_count': 0, 'reply_count': 0, 'like_c...   \n",
       "\n",
       "                      id                                               text  \\\n",
       "197  1450965018107863048  RT @WeaselMomma: The dark days are over #SHIBA...   \n",
       "198  1450964992233295878  @thomgrantbruso #Free from #Saturday #October ...   \n",
       "199  1450964878638915589  @VampaJl #Free from #Saturday #October 23 to #...   \n",
       "\n",
       "                   created_at lang name username  \n",
       "197  2021-10-20T23:19:52.000Z   en  NaN      NaN  \n",
       "198  2021-10-20T23:19:46.000Z   en  NaN      NaN  \n",
       "199  2021-10-20T23:19:19.000Z   en  NaN      NaN  "
      ]
     },
     "execution_count": 133,
     "metadata": {},
     "output_type": "execute_result"
    }
   ],
   "source": [
    "my_df_2.tail(3)"
   ]
  },
  {
   "cell_type": "markdown",
   "id": "d8c9280e",
   "metadata": {},
   "source": [
    "***During the holidays tweets about baking and creating sweet treats get more frequent interactions than at other times of the year.***"
   ]
  },
  {
   "cell_type": "markdown",
   "id": "49f131c6",
   "metadata": {},
   "source": [
    "The data frame I used in useful because the time when each tweet was posted in visible.\n",
    "\n",
    "This data is limited because for my question I need to see when the tweet is posted, which is given in this data however there is no room for expanding on my hypothesis.\n",
    "\n",
    "The next steps to take with this data I would take would be to split this data into year by year information on timestamps around each holiday per year."
   ]
  }
 ],
 "metadata": {
  "kernelspec": {
   "display_name": "Python 3 (ipykernel)",
   "language": "python",
   "name": "python3"
  },
  "language_info": {
   "codemirror_mode": {
    "name": "ipython",
    "version": 3
   },
   "file_extension": ".py",
   "mimetype": "text/x-python",
   "name": "python",
   "nbconvert_exporter": "python",
   "pygments_lexer": "ipython3",
   "version": "3.9.6"
  }
 },
 "nbformat": 4,
 "nbformat_minor": 5
}
