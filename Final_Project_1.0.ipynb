{
 "cells": [
  {
   "cell_type": "markdown",
   "id": "f0c38224",
   "metadata": {},
   "source": [
    "**Proposal: What time periods are more likely for an instagram user to view and interact with ads, recommended users, and posts in general. Will there be a connection between these data sets when the timestamps are put into consideration? I want to put these all into graphs and make a comparison.**"
   ]
  },
  {
   "cell_type": "code",
   "execution_count": 43,
   "id": "77127698",
   "metadata": {},
   "outputs": [],
   "source": [
    "import pandas as pd\n",
    "import json\n",
    "from scipy import stats\n",
    "from matplotlib import pyplot as plt\n",
    "from datetime import datetime as dt"
   ]
  },
  {
   "cell_type": "markdown",
   "id": "53fc86fb",
   "metadata": {},
   "source": [
    "**Opening all of the data from instagram that I downloaded to my computer into json files. Then I take them and turn them into DataFrames so that I can see the timestamps for each set.**"
   ]
  },
  {
   "cell_type": "code",
   "execution_count": 2,
   "id": "283bb880",
   "metadata": {},
   "outputs": [],
   "source": [
    "with open(r\"C:\\Users\\Anamarie Jones\\Downloads\\ana_jones0216_20210907\\ads_and_content\\ads_viewed.json\") as ad:\n",
    "    ads = json.load(ad)\n",
    "with open(r\"C:\\Users\\Anamarie Jones\\Downloads\\ana_jones0216_20210907\\ads_and_content\\posts_viewed.json\") as p:\n",
    "    posts = json.load(p)\n",
    "with open(r\"C:\\Users\\Anamarie Jones\\Downloads\\ana_jones0216_20210907\\ads_and_content\\suggested_accounts_viewed.json\") as s:\n",
    "    accounts = json.load(s)\n",
    "with open(r\"C:\\Users\\Anamarie Jones\\Downloads\\ana_jones0216_20210907\\ads_and_content\\videos_watched.json\") as v:\n",
    "    videos = json.load(v)"
   ]
  },
  {
   "cell_type": "code",
   "execution_count": 13,
   "id": "eb1f67c1",
   "metadata": {},
   "outputs": [],
   "source": [
    "time = [x['string_map_data']['Time'] for x in ads['impressions_history_ads_seen']]"
   ]
  },
  {
   "cell_type": "code",
   "execution_count": 14,
   "id": "50703a1a",
   "metadata": {},
   "outputs": [],
   "source": [
    "ads_viewed_time = pd.DataFrame(time)"
   ]
  },
  {
   "cell_type": "code",
   "execution_count": 50,
   "id": "e081ddeb",
   "metadata": {},
   "outputs": [
    {
     "data": {
      "text/html": [
       "<div>\n",
       "<style scoped>\n",
       "    .dataframe tbody tr th:only-of-type {\n",
       "        vertical-align: middle;\n",
       "    }\n",
       "\n",
       "    .dataframe tbody tr th {\n",
       "        vertical-align: top;\n",
       "    }\n",
       "\n",
       "    .dataframe thead th {\n",
       "        text-align: right;\n",
       "    }\n",
       "</style>\n",
       "<table border=\"1\" class=\"dataframe\">\n",
       "  <thead>\n",
       "    <tr style=\"text-align: right;\">\n",
       "      <th></th>\n",
       "      <th>href</th>\n",
       "      <th>value</th>\n",
       "      <th>timestamp</th>\n",
       "    </tr>\n",
       "  </thead>\n",
       "  <tbody>\n",
       "    <tr>\n",
       "      <th>0</th>\n",
       "      <td></td>\n",
       "      <td></td>\n",
       "      <td>1630453959</td>\n",
       "    </tr>\n",
       "    <tr>\n",
       "      <th>1</th>\n",
       "      <td></td>\n",
       "      <td></td>\n",
       "      <td>1630454332</td>\n",
       "    </tr>\n",
       "    <tr>\n",
       "      <th>2</th>\n",
       "      <td></td>\n",
       "      <td></td>\n",
       "      <td>1630453922</td>\n",
       "    </tr>\n",
       "    <tr>\n",
       "      <th>3</th>\n",
       "      <td></td>\n",
       "      <td></td>\n",
       "      <td>1630453922</td>\n",
       "    </tr>\n",
       "    <tr>\n",
       "      <th>4</th>\n",
       "      <td></td>\n",
       "      <td></td>\n",
       "      <td>1630453922</td>\n",
       "    </tr>\n",
       "  </tbody>\n",
       "</table>\n",
       "</div>"
      ],
      "text/plain": [
       "  href value   timestamp\n",
       "0             1630453959\n",
       "1             1630454332\n",
       "2             1630453922\n",
       "3             1630453922\n",
       "4             1630453922"
      ]
     },
     "execution_count": 50,
     "metadata": {},
     "output_type": "execute_result"
    }
   ],
   "source": [
    "ads_viewed_time.head()"
   ]
  },
  {
   "cell_type": "code",
   "execution_count": 18,
   "id": "737af59b",
   "metadata": {},
   "outputs": [],
   "source": [
    "time2 = [x['string_map_data']['Time'] for x in posts['impressions_history_posts_seen']]"
   ]
  },
  {
   "cell_type": "code",
   "execution_count": 19,
   "id": "d5ebbe42",
   "metadata": {},
   "outputs": [],
   "source": [
    "posts_viewed = pd.DataFrame(time2)"
   ]
  },
  {
   "cell_type": "code",
   "execution_count": 51,
   "id": "c7dd1a62",
   "metadata": {},
   "outputs": [
    {
     "data": {
      "text/html": [
       "<div>\n",
       "<style scoped>\n",
       "    .dataframe tbody tr th:only-of-type {\n",
       "        vertical-align: middle;\n",
       "    }\n",
       "\n",
       "    .dataframe tbody tr th {\n",
       "        vertical-align: top;\n",
       "    }\n",
       "\n",
       "    .dataframe thead th {\n",
       "        text-align: right;\n",
       "    }\n",
       "</style>\n",
       "<table border=\"1\" class=\"dataframe\">\n",
       "  <thead>\n",
       "    <tr style=\"text-align: right;\">\n",
       "      <th></th>\n",
       "      <th>href</th>\n",
       "      <th>value</th>\n",
       "      <th>timestamp</th>\n",
       "    </tr>\n",
       "  </thead>\n",
       "  <tbody>\n",
       "    <tr>\n",
       "      <th>0</th>\n",
       "      <td></td>\n",
       "      <td></td>\n",
       "      <td>1630453927</td>\n",
       "    </tr>\n",
       "    <tr>\n",
       "      <th>1</th>\n",
       "      <td></td>\n",
       "      <td></td>\n",
       "      <td>1630453933</td>\n",
       "    </tr>\n",
       "    <tr>\n",
       "      <th>2</th>\n",
       "      <td></td>\n",
       "      <td></td>\n",
       "      <td>1630453958</td>\n",
       "    </tr>\n",
       "    <tr>\n",
       "      <th>3</th>\n",
       "      <td></td>\n",
       "      <td></td>\n",
       "      <td>1630454320</td>\n",
       "    </tr>\n",
       "    <tr>\n",
       "      <th>4</th>\n",
       "      <td></td>\n",
       "      <td></td>\n",
       "      <td>1630454320</td>\n",
       "    </tr>\n",
       "  </tbody>\n",
       "</table>\n",
       "</div>"
      ],
      "text/plain": [
       "  href value   timestamp\n",
       "0             1630453927\n",
       "1             1630453933\n",
       "2             1630453958\n",
       "3             1630454320\n",
       "4             1630454320"
      ]
     },
     "execution_count": 51,
     "metadata": {},
     "output_type": "execute_result"
    }
   ],
   "source": [
    "posts_viewed.head()"
   ]
  },
  {
   "cell_type": "code",
   "execution_count": 24,
   "id": "d4305faa",
   "metadata": {},
   "outputs": [],
   "source": [
    "time3 = [x['string_map_data']['Time'] for x in accounts['impressions_history_chaining_seen']]"
   ]
  },
  {
   "cell_type": "code",
   "execution_count": 26,
   "id": "2e69dbd2",
   "metadata": {},
   "outputs": [],
   "source": [
    "accounts_viewed = pd.DataFrame(time3)"
   ]
  },
  {
   "cell_type": "code",
   "execution_count": 52,
   "id": "01107ca7",
   "metadata": {},
   "outputs": [
    {
     "data": {
      "text/html": [
       "<div>\n",
       "<style scoped>\n",
       "    .dataframe tbody tr th:only-of-type {\n",
       "        vertical-align: middle;\n",
       "    }\n",
       "\n",
       "    .dataframe tbody tr th {\n",
       "        vertical-align: top;\n",
       "    }\n",
       "\n",
       "    .dataframe thead th {\n",
       "        text-align: right;\n",
       "    }\n",
       "</style>\n",
       "<table border=\"1\" class=\"dataframe\">\n",
       "  <thead>\n",
       "    <tr style=\"text-align: right;\">\n",
       "      <th></th>\n",
       "      <th>href</th>\n",
       "      <th>value</th>\n",
       "      <th>timestamp</th>\n",
       "    </tr>\n",
       "  </thead>\n",
       "  <tbody>\n",
       "    <tr>\n",
       "      <th>0</th>\n",
       "      <td></td>\n",
       "      <td></td>\n",
       "      <td>1598288144</td>\n",
       "    </tr>\n",
       "    <tr>\n",
       "      <th>1</th>\n",
       "      <td></td>\n",
       "      <td></td>\n",
       "      <td>1591772563</td>\n",
       "    </tr>\n",
       "    <tr>\n",
       "      <th>2</th>\n",
       "      <td></td>\n",
       "      <td></td>\n",
       "      <td>1588995825</td>\n",
       "    </tr>\n",
       "    <tr>\n",
       "      <th>3</th>\n",
       "      <td></td>\n",
       "      <td></td>\n",
       "      <td>1587440980</td>\n",
       "    </tr>\n",
       "    <tr>\n",
       "      <th>4</th>\n",
       "      <td></td>\n",
       "      <td></td>\n",
       "      <td>1587440971</td>\n",
       "    </tr>\n",
       "  </tbody>\n",
       "</table>\n",
       "</div>"
      ],
      "text/plain": [
       "  href value   timestamp\n",
       "0             1598288144\n",
       "1             1591772563\n",
       "2             1588995825\n",
       "3             1587440980\n",
       "4             1587440971"
      ]
     },
     "execution_count": 52,
     "metadata": {},
     "output_type": "execute_result"
    }
   ],
   "source": [
    "accounts_viewed.head()"
   ]
  },
  {
   "cell_type": "code",
   "execution_count": 25,
   "id": "c3ef68e0",
   "metadata": {},
   "outputs": [],
   "source": [
    "time4 = [x['string_map_data']['Time'] for x in videos['impressions_history_videos_watched']]"
   ]
  },
  {
   "cell_type": "code",
   "execution_count": 28,
   "id": "fccd2ceb",
   "metadata": {},
   "outputs": [],
   "source": [
    "videos_viewed = pd.DataFrame(time4)"
   ]
  },
  {
   "cell_type": "code",
   "execution_count": 53,
   "id": "bff2bb7b",
   "metadata": {},
   "outputs": [
    {
     "data": {
      "text/html": [
       "<div>\n",
       "<style scoped>\n",
       "    .dataframe tbody tr th:only-of-type {\n",
       "        vertical-align: middle;\n",
       "    }\n",
       "\n",
       "    .dataframe tbody tr th {\n",
       "        vertical-align: top;\n",
       "    }\n",
       "\n",
       "    .dataframe thead th {\n",
       "        text-align: right;\n",
       "    }\n",
       "</style>\n",
       "<table border=\"1\" class=\"dataframe\">\n",
       "  <thead>\n",
       "    <tr style=\"text-align: right;\">\n",
       "      <th></th>\n",
       "      <th>href</th>\n",
       "      <th>value</th>\n",
       "      <th>timestamp</th>\n",
       "    </tr>\n",
       "  </thead>\n",
       "  <tbody>\n",
       "    <tr>\n",
       "      <th>0</th>\n",
       "      <td></td>\n",
       "      <td></td>\n",
       "      <td>1630454346</td>\n",
       "    </tr>\n",
       "    <tr>\n",
       "      <th>1</th>\n",
       "      <td></td>\n",
       "      <td></td>\n",
       "      <td>1630453922</td>\n",
       "    </tr>\n",
       "    <tr>\n",
       "      <th>2</th>\n",
       "      <td></td>\n",
       "      <td></td>\n",
       "      <td>1630454666</td>\n",
       "    </tr>\n",
       "    <tr>\n",
       "      <th>3</th>\n",
       "      <td></td>\n",
       "      <td></td>\n",
       "      <td>1630454973</td>\n",
       "    </tr>\n",
       "    <tr>\n",
       "      <th>4</th>\n",
       "      <td></td>\n",
       "      <td></td>\n",
       "      <td>1630455019</td>\n",
       "    </tr>\n",
       "  </tbody>\n",
       "</table>\n",
       "</div>"
      ],
      "text/plain": [
       "  href value   timestamp\n",
       "0             1630454346\n",
       "1             1630453922\n",
       "2             1630454666\n",
       "3             1630454973\n",
       "4             1630455019"
      ]
     },
     "execution_count": 53,
     "metadata": {},
     "output_type": "execute_result"
    }
   ],
   "source": [
    "videos_viewed.head()"
   ]
  },
  {
   "cell_type": "code",
   "execution_count": 45,
   "id": "ff350b1b",
   "metadata": {},
   "outputs": [],
   "source": [
    "a_time = dt.utcfromtimestamp(ads_viewed_time['timestamp'][0])"
   ]
  },
  {
   "cell_type": "markdown",
   "id": "feab06fa",
   "metadata": {},
   "source": [
    "**Taking the timestamps and turning them into readable dates and time.**"
   ]
  },
  {
   "cell_type": "code",
   "execution_count": 49,
   "id": "f58b9699",
   "metadata": {},
   "outputs": [
    {
     "ename": "TypeError",
     "evalue": "unsupported operand type(s) for +: 'int' and 'str'",
     "output_type": "error",
     "traceback": [
      "\u001b[1;31m---------------------------------------------------------------------------\u001b[0m",
      "\u001b[1;31mTypeError\u001b[0m                                 Traceback (most recent call last)",
      "\u001b[1;32mC:\\Users\\ANAMAR~1\\AppData\\Local\\Temp/ipykernel_4292/594192767.py\u001b[0m in \u001b[0;36m<module>\u001b[1;34m\u001b[0m\n\u001b[1;32m----> 1\u001b[1;33m \u001b[0ma_time\u001b[0m\u001b[1;33m.\u001b[0m\u001b[0mmonth\u001b[0m \u001b[1;33m+\u001b[0m \u001b[1;34m'/'\u001b[0m \u001b[1;33m+\u001b[0m \u001b[0ma_time\u001b[0m\u001b[1;33m.\u001b[0m\u001b[0mday\u001b[0m \u001b[1;33m+\u001b[0m \u001b[1;34m'/'\u001b[0m \u001b[1;33m+\u001b[0m \u001b[0ma_time\u001b[0m\u001b[1;33m.\u001b[0m\u001b[0myear\u001b[0m\u001b[1;33m\u001b[0m\u001b[1;33m\u001b[0m\u001b[0m\n\u001b[0m",
      "\u001b[1;31mTypeError\u001b[0m: unsupported operand type(s) for +: 'int' and 'str'"
     ]
    }
   ],
   "source": [
    "a_time.month + '/' + a_time.day + '/' + a_time.year"
   ]
  },
  {
   "cell_type": "markdown",
   "id": "06b48c1a",
   "metadata": {},
   "source": [
    "**Making charts to compare the data timestamps.**"
   ]
  },
  {
   "cell_type": "code",
   "execution_count": 42,
   "id": "f62ed6f9",
   "metadata": {},
   "outputs": [
    {
     "data": {
      "image/png": "[encoded data removed]",
      "text/plain": [
       "<Figure size 720x720 with 4 Axes>"
      ]
     },
     "metadata": {
      "needs_background": "light"
     },
     "output_type": "display_data"
    }
   ],
   "source": [
    "fig1, ax1 = plt.subplots(2, 2, figsize = (10, 10))\n",
    "ax1[0, 0].plot(ads_viewed_time['timestamp'].iloc[0:70], color = 'blue', label = 'Ads Viewed')\n",
    "ax1[0, 1].plot(posts_viewed['timestamp'].iloc[0:70], color = 'red', label = 'Posts Viewed')\n",
    "ax1[1, 0].plot(accounts_viewed['timestamp'].iloc[0:70], color = 'yellow', label = 'Suggested Accounts Viewed')\n",
    "ax1[1, 1].plot(videos_viewed['timestamp'].iloc[0:70], color = 'green', label = 'Videos Viewed')\n",
    "plt.show()"
   ]
  }
 ],
 "metadata": {
  "kernelspec": {
   "display_name": "Python 3 (ipykernel)",
   "language": "python",
   "name": "python3"
  },
  "language_info": {
   "codemirror_mode": {
    "name": "ipython",
    "version": 3
   },
   "file_extension": ".py",
   "mimetype": "text/x-python",
   "name": "python",
   "nbconvert_exporter": "python",
   "pygments_lexer": "ipython3",
   "version": "3.9.6"
  }
 },
 "nbformat": 4,
 "nbformat_minor": 5
}
