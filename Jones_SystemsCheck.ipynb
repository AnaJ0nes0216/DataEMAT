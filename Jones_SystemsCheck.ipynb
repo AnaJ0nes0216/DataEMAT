{
 "cells": [
  {
   "cell_type": "markdown",
   "id": "22ecbe10",
   "metadata": {},
   "source": [
    "# What I hope to get out of this class...\n",
    "\n",
    "### Ana Jones"
   ]
  },
  {
   "cell_type": "markdown",
   "id": "bc08c505",
   "metadata": {},
   "source": [
    "- Learn Python language\n",
    "- Feel comfortable coding\n",
    "- New introductions to different coding programs "
   ]
  },
  {
   "cell_type": "markdown",
   "id": "22477d21",
   "metadata": {},
   "source": [
    "## **...mainly deciding which language works best for any project I create as well as which language I like the best**"
   ]
  },
  {
   "cell_type": "markdown",
   "id": "3dc39726",
   "metadata": {},
   "source": [
    "## Long term goals\n",
    "> _being capable of coding a project idea on my own without step by step instructions and the project working without errors._\n",
    ">> become an animator"
   ]
  },
  {
   "cell_type": "markdown",
   "id": "5caef447",
   "metadata": {},
   "source": [
    "![](https://1.bp.blogspot.com/-t9DQ3aaAdH0/YCdvXMzKudI/AAAAAAAAGxA/npzTgDFjYgojxqs50jYxc7Cb9YG_-mPEQCLcBGAsYHQ/s640/example01.jpg \"animation graphics\")"
   ]
  },
  {
   "cell_type": "code",
   "execution_count": 2,
   "id": "6333180f",
   "metadata": {},
   "outputs": [
    {
     "name": "stdout",
     "output_type": "stream",
     "text": [
      "work hard\n"
     ]
    }
   ],
   "source": [
    "def workthing(x):\n",
    "    return \"work \" + str(x)\n",
    "print(workthing(\"hard\"))"
   ]
  },
  {
   "cell_type": "code",
   "execution_count": 3,
   "id": "3c2bc501",
   "metadata": {},
   "outputs": [
    {
     "name": "stdout",
     "output_type": "stream",
     "text": [
      "JavaScript\n",
      "Python\n",
      "HTML/CSS\n"
     ]
    }
   ],
   "source": [
    "coding = [\"JavaScript\", \"Python\", \"HTML/CSS\"]\n",
    "for x in coding:\n",
    "  print(x)"
   ]
  }
 ],
 "metadata": {
  "kernelspec": {
   "display_name": "Python 3 (ipykernel)",
   "language": "python",
   "name": "python3"
  },
  "language_info": {
   "codemirror_mode": {
    "name": "ipython",
    "version": 3
   },
   "file_extension": ".py",
   "mimetype": "text/x-python",
   "name": "python",
   "nbconvert_exporter": "python",
   "pygments_lexer": "ipython3",
   "version": "3.9.6"
  }
 },
 "nbformat": 4,
 "nbformat_minor": 5
}
